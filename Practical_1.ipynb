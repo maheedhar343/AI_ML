{
  "cells": [
    {
      "cell_type": "markdown",
      "metadata": {
        "id": "view-in-github",
        "colab_type": "text"
      },
      "source": [
        "<a href=\"https://colab.research.google.com/github/maheedhar343/AI_ML/blob/main/Practical_1.ipynb\" target=\"_parent\"><img src=\"https://colab.research.google.com/assets/colab-badge.svg\" alt=\"Open In Colab\"/></a>"
      ]
    },
    {
      "cell_type": "code",
      "execution_count": null,
      "id": "440b730d",
      "metadata": {
        "colab": {
          "base_uri": "https://localhost:8080/"
        },
        "id": "440b730d",
        "outputId": "87023856-61bb-4161-cf96-15f37bdfcaf3"
      },
      "outputs": [
        {
          "output_type": "stream",
          "name": "stdout",
          "text": [
            "Enter the first number: 2\n",
            "Enter the second number: 5\n",
            "HCF of 2 and 5 is 1\n",
            "LCM of 2 and 5 is 10\n"
          ]
        }
      ],
      "source": [
        "# Write a program to find out HCF & LCM of two numbers.\n",
        "# Taking input from the user\n",
        "number1 = int(input(\"Enter the first number: \"))\n",
        "number2 = int(input(\"Enter the second number: \"))\n",
        "\n",
        "# Find HCF\n",
        "hcf = 0\n",
        "for i in range(1, min(number1, number2) + 1):\n",
        "    if number1 % i == 0 and number2 % i == 0:\n",
        "        hcf = i\n",
        "\n",
        "# Find LCM\n",
        "lcm = (number1 * number2) // hcf\n",
        "\n",
        "# Display the results\n",
        "print(\"HCF of\", number1, \"and\", number2, \"is\", hcf)\n",
        "print(\"LCM of\", number1, \"and\", number2, \"is\", lcm)\n"
      ]
    }
  ],
  "metadata": {
    "kernelspec": {
      "display_name": "Python 3 (ipykernel)",
      "language": "python",
      "name": "python3"
    },
    "language_info": {
      "codemirror_mode": {
        "name": "ipython",
        "version": 3
      },
      "file_extension": ".py",
      "mimetype": "text/x-python",
      "name": "python",
      "nbconvert_exporter": "python",
      "pygments_lexer": "ipython3",
      "version": "3.10.9"
    },
    "colab": {
      "provenance": [],
      "include_colab_link": true
    }
  },
  "nbformat": 4,
  "nbformat_minor": 5
}